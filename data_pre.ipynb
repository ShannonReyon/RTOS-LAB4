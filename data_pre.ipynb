{
  "nbformat": 4,
  "nbformat_minor": 0,
  "metadata": {
    "colab": {
      "provenance": [],
      "collapsed_sections": [],
      "authorship_tag": "ABX9TyO49wl+KXMxE1ClWJyMHdin",
      "include_colab_link": true
    },
    "kernelspec": {
      "name": "python3",
      "display_name": "Python 3"
    },
    "language_info": {
      "name": "python"
    }
  },
  "cells": [
    {
      "cell_type": "markdown",
      "metadata": {
        "id": "view-in-github",
        "colab_type": "text"
      },
      "source": [
        "<a href=\"https://colab.research.google.com/github/ShannonReyon/RTOS-LAB4/blob/main/data_pre.ipynb\" target=\"_parent\"><img src=\"https://colab.research.google.com/assets/colab-badge.svg\" alt=\"Open In Colab\"/></a>"
      ]
    },
    {
      "cell_type": "code",
      "execution_count": null,
      "metadata": {
        "id": "OFoY2d5XODg4"
      },
      "outputs": [],
      "source": [
        "pip install -q kaggle"
      ]
    },
    {
      "cell_type": "code",
      "source": [
        "from google.colab import drive\n",
        "drive.mount('/content/drive')"
      ],
      "metadata": {
        "colab": {
          "base_uri": "https://localhost:8080/"
        },
        "id": "smxBqAKoOOpm",
        "outputId": "6336a0ca-d836-4f22-f37d-9caad554bdfa"
      },
      "execution_count": null,
      "outputs": [
        {
          "output_type": "stream",
          "name": "stdout",
          "text": [
            "Mounted at /content/drive\n"
          ]
        }
      ]
    },
    {
      "cell_type": "code",
      "source": [
        "! mkdir ~/.kaggle"
      ],
      "metadata": {
        "id": "nJwmDW3BOahV"
      },
      "execution_count": null,
      "outputs": []
    },
    {
      "cell_type": "code",
      "source": [
        "!cp /content/drive/MyDrive/kaggle.json ~/.kaggle/kaggle.json"
      ],
      "metadata": {
        "id": "RvH65alYOjM6"
      },
      "execution_count": null,
      "outputs": []
    },
    {
      "cell_type": "code",
      "source": [
        "! chmod 600 ~/.kaggle/kaggle.json"
      ],
      "metadata": {
        "id": "LmD2YOfVO5Pr"
      },
      "execution_count": null,
      "outputs": []
    },
    {
      "cell_type": "code",
      "source": [
        "! kaggle datasets download brsdincer/vehicle-detection-image-set"
      ],
      "metadata": {
        "colab": {
          "base_uri": "https://localhost:8080/"
        },
        "id": "m1wqLxQCPtOO",
        "outputId": "1e6305a2-6af6-4f3f-cd0d-34717901d915"
      },
      "execution_count": null,
      "outputs": [
        {
          "output_type": "stream",
          "name": "stdout",
          "text": [
            "Downloading vehicle-detection-image-set.zip to /content\n",
            " 87% 104M/119M [00:00<00:00, 190MB/s] \n",
            "100% 119M/119M [00:00<00:00, 182MB/s]\n"
          ]
        }
      ]
    },
    {
      "cell_type": "code",
      "source": [
        "! unzip vehicle-detection-image-set.zip"
      ],
      "metadata": {
        "id": "ybd0STp8QUfT"
      },
      "execution_count": null,
      "outputs": []
    },
    {
      "cell_type": "code",
      "source": [
        "import os\n",
        "import time\n",
        "import math\n",
        "import shutil\n",
        "import matplotlib.pyplot as plt\n",
        "import tensorflow as tf\n",
        "from tensorflow.keras import layers\n",
        "from sklearn.model_selection import train_test_split"
      ],
      "metadata": {
        "id": "bDpjmfuXSHl-"
      },
      "execution_count": null,
      "outputs": []
    },
    {
      "cell_type": "code",
      "source": [
        "%matplotlib inline"
      ],
      "metadata": {
        "id": "xBcTmYXlSHnD"
      },
      "execution_count": null,
      "outputs": []
    },
    {
      "cell_type": "code",
      "source": [
        "VEHICLES_DIR = '/content/data/vehicles'\n",
        "NON_VEHICLES_DIR = '/content/data/non-vehicles'"
      ],
      "metadata": {
        "id": "PaxE-SgeUMAI"
      },
      "execution_count": null,
      "outputs": []
    },
    {
      "cell_type": "code",
      "source": [
        "vehicles_image_names = os.listdir(VEHICLES_DIR)\n",
        "non_vehicles_image_names = os.listdir(NON_VEHICLES_DIR)"
      ],
      "metadata": {
        "id": "NPsBPFDBUT41"
      },
      "execution_count": null,
      "outputs": []
    },
    {
      "cell_type": "code",
      "source": [
        "print('TOTAL NO. OF NON-VEHICLE IMAGES:', len(non_vehicles_image_names))\n",
        "print('TOTAL NO. OF VEHICLE IMAGES:', len(vehicles_image_names))"
      ],
      "metadata": {
        "colab": {
          "base_uri": "https://localhost:8080/"
        },
        "id": "QQn7ffUvUUE0",
        "outputId": "6d068123-ff4f-4f69-a9f0-eacb7acddaf7"
      },
      "execution_count": null,
      "outputs": [
        {
          "output_type": "stream",
          "name": "stdout",
          "text": [
            "TOTAL NO. OF NON-VEHICLE IMAGES: 8968\n",
            "TOTAL NO. OF VEHICLE IMAGES: 8792\n"
          ]
        }
      ]
    },
    {
      "cell_type": "code",
      "source": [
        "print(vehicles_image_names[:10])\n",
        "print(non_vehicles_image_names[:10])"
      ],
      "metadata": {
        "colab": {
          "base_uri": "https://localhost:8080/"
        },
        "id": "ymlsQNAgUm2x",
        "outputId": "82f90d99-70fb-4347-9ec8-af1ad8252a5e"
      },
      "execution_count": null,
      "outputs": [
        {
          "output_type": "stream",
          "name": "stdout",
          "text": [
            "['1279.png', '924.png', 'right (162).png', '1881.png', 'left (21).png', '3881.png', '4204.png', '3481.png', 'left (47).png', '5858.png']\n",
            "['extra1278.png', 'extra4423.png', 'extra1916.png', 'image503.png', 'image1337.png', 'image2862.png', 'extra3752.png', 'extra3545.png', 'image401.png', 'extra5207.png']\n"
          ]
        }
      ]
    },
    {
      "cell_type": "code",
      "source": [
        "BASE_DIR = '../tmp/'\n",
        "TRAIN_DIR = os.path.join(BASE_DIR, 'train')\n",
        "TEST_DIR = os.path.join(BASE_DIR, 'test')\n",
        "VEHICLES_TRAIN_DIR = os.path.join(TRAIN_DIR, 'vehicles')\n",
        "NON_VEHICLES_TRAIN_DIR = os.path.join(TRAIN_DIR, 'non-vehicles')\n",
        "VEHICLES_TEST_DIR = os.path.join(TEST_DIR, 'vehicles')\n",
        "NON_VEHICLES_TEST_DIR = os.path.join(TEST_DIR, 'non-vehicles')"
      ],
      "metadata": {
        "id": "mwP0XPV8Urrp"
      },
      "execution_count": null,
      "outputs": []
    },
    {
      "cell_type": "code",
      "source": [
        "TRAIN_SIZE = 0.8\n",
        "train_vehicles, test_vehicles = train_test_split(\n",
        "    vehicles_image_names, train_size=TRAIN_SIZE, shuffle=True, random_state=1\n",
        ")\n",
        "\n",
        "train_non_vehicles, test_non_vehicles = train_test_split(\n",
        "    non_vehicles_image_names, train_size=TRAIN_SIZE, shuffle=True, random_state=1\n",
        ")\n"
      ],
      "metadata": {
        "id": "tWBlaPazUyVp"
      },
      "execution_count": null,
      "outputs": []
    },
    {
      "cell_type": "code",
      "source": [
        "print('TOTAL NO. OF TRAIN VEHICLE IMAGES:', len(train_vehicles))\n",
        "print('TOTAL NO. OF TRAIN NON-VEHICLE IMAGES:', len(train_non_vehicles))\n",
        "\n",
        "print('TOTAL NO. OF TEST VEHICLE IMAGES:', len(test_vehicles))\n",
        "print('TOTAL NO. OF TEST NON-VEHICLE IMAGES:', len(test_non_vehicles))"
      ],
      "metadata": {
        "colab": {
          "base_uri": "https://localhost:8080/"
        },
        "id": "6GgPZ4g8UyxY",
        "outputId": "3ad9054c-bb5b-49ac-d7ac-50fef7be6050"
      },
      "execution_count": null,
      "outputs": [
        {
          "output_type": "stream",
          "name": "stdout",
          "text": [
            "TOTAL NO. OF TRAIN VEHICLE IMAGES: 7033\n",
            "TOTAL NO. OF TRAIN NON-VEHICLE IMAGES: 7174\n",
            "TOTAL NO. OF TEST VEHICLE IMAGES: 1759\n",
            "TOTAL NO. OF TEST NON-VEHICLE IMAGES: 1794\n"
          ]
        }
      ]
    },
    {
      "cell_type": "code",
      "source": [
        "def move_images(image_list, old_dir_path, new_dir_path):\n",
        "    if not os.path.exists(new_dir_path):\n",
        "        os.makedirs(new_dir_path)\n",
        "    \n",
        "    for file_name in image_list:\n",
        "        shutil.copy(\n",
        "            os.path.join(old_dir_path, file_name),\n",
        "            os.path.join(new_dir_path, file_name)\n",
        "        )\n",
        "    print(f'{len(image_list)} IMAGES COPIED TO {new_dir_path}')\n"
      ],
      "metadata": {
        "id": "n1HL0_YIVq02"
      },
      "execution_count": null,
      "outputs": []
    },
    {
      "cell_type": "code",
      "source": [
        "move_images(train_vehicles, VEHICLES_DIR, VEHICLES_TRAIN_DIR)\n",
        "move_images(train_non_vehicles, NON_VEHICLES_DIR, NON_VEHICLES_TRAIN_DIR)\n",
        "\n",
        "move_images(test_vehicles, VEHICLES_DIR, VEHICLES_TEST_DIR)\n",
        "move_images(test_non_vehicles, NON_VEHICLES_DIR, NON_VEHICLES_TEST_DIR)"
      ],
      "metadata": {
        "colab": {
          "base_uri": "https://localhost:8080/"
        },
        "id": "EqMCCD2mVrYE",
        "outputId": "5e332661-c92f-49b6-e7bf-827450ff8fef"
      },
      "execution_count": null,
      "outputs": [
        {
          "output_type": "stream",
          "name": "stdout",
          "text": [
            "7033 IMAGES COPIED TO ../tmp/train/vehicles\n",
            "7174 IMAGES COPIED TO ../tmp/train/non-vehicles\n",
            "1759 IMAGES COPIED TO ../tmp/test/vehicles\n",
            "1794 IMAGES COPIED TO ../tmp/test/non-vehicles\n"
          ]
        }
      ]
    },
    {
      "cell_type": "code",
      "source": [
        "len(os.listdir(VEHICLES_TRAIN_DIR))"
      ],
      "metadata": {
        "colab": {
          "base_uri": "https://localhost:8080/"
        },
        "id": "QOgaOHF9VzJp",
        "outputId": "a1bc4b5b-5765-4ebd-8614-600d6a3b36be"
      },
      "execution_count": null,
      "outputs": [
        {
          "output_type": "execute_result",
          "data": {
            "text/plain": [
              "7033"
            ]
          },
          "metadata": {},
          "execution_count": 23
        }
      ]
    },
    {
      "cell_type": "code",
      "source": [
        "IMG_SIZE = 256"
      ],
      "metadata": {
        "id": "yyAsGyk8V34a"
      },
      "execution_count": null,
      "outputs": []
    },
    {
      "cell_type": "code",
      "source": [
        "train_datagen = tf.keras.preprocessing.image.ImageDataGenerator(\n",
        "    rescale=1./255\n",
        ")\n",
        "\n",
        "train_generator = train_datagen.flow_from_directory(\n",
        "    TRAIN_DIR,\n",
        "    target_size=(IMG_SIZE, IMG_SIZE),\n",
        "    shuffle=True,\n",
        "    class_mode='binary'\n",
        ")\n",
        "\n",
        "test_datagen = tf.keras.preprocessing.image.ImageDataGenerator(\n",
        "    rescale=1./255\n",
        ")\n",
        "\n",
        "test_generator = test_datagen.flow_from_directory(\n",
        "    TEST_DIR,\n",
        "    target_size=(IMG_SIZE, IMG_SIZE),\n",
        "    class_mode='binary'\n",
        ")"
      ],
      "metadata": {
        "colab": {
          "base_uri": "https://localhost:8080/"
        },
        "id": "CdiLlOqsV8fN",
        "outputId": "74467a42-e3cc-428a-93d7-04a2d7658340"
      },
      "execution_count": null,
      "outputs": [
        {
          "output_type": "stream",
          "name": "stdout",
          "text": [
            "Found 14207 images belonging to 2 classes.\n",
            "Found 3553 images belonging to 2 classes.\n"
          ]
        }
      ]
    },
    {
      "cell_type": "code",
      "source": [
        "model = tf.keras.Sequential([\n",
        "    layers.Conv2D(32, (3, 3), activation='relu', input_shape=(IMG_SIZE, IMG_SIZE, 3)),\n",
        "    layers.MaxPool2D((2, 2)),\n",
        "    layers.Conv2D(64, (3, 3), activation='relu'),\n",
        "    layers.MaxPool2D(2, 2),\n",
        "    layers.Flatten(),\n",
        "    layers.Dense(1, activation='sigmoid')\n",
        "])\n",
        "\n",
        "model.summary()\n",
        "\n",
        "model.compile(\n",
        "    optimizer='adam',\n",
        "    loss='binary_crossentropy',\n",
        "    metrics=['accuracy']\n",
        ")"
      ],
      "metadata": {
        "colab": {
          "base_uri": "https://localhost:8080/"
        },
        "id": "iyc4rVwHWBkF",
        "outputId": "91867b2d-18ad-4725-ae14-21ce52a558f3"
      },
      "execution_count": null,
      "outputs": [
        {
          "output_type": "stream",
          "name": "stdout",
          "text": [
            "Model: \"sequential\"\n",
            "_________________________________________________________________\n",
            " Layer (type)                Output Shape              Param #   \n",
            "=================================================================\n",
            " conv2d (Conv2D)             (None, 254, 254, 32)      896       \n",
            "                                                                 \n",
            " max_pooling2d (MaxPooling2D  (None, 127, 127, 32)     0         \n",
            " )                                                               \n",
            "                                                                 \n",
            " conv2d_1 (Conv2D)           (None, 125, 125, 64)      18496     \n",
            "                                                                 \n",
            " max_pooling2d_1 (MaxPooling  (None, 62, 62, 64)       0         \n",
            " 2D)                                                             \n",
            "                                                                 \n",
            " flatten (Flatten)           (None, 246016)            0         \n",
            "                                                                 \n",
            " dense (Dense)               (None, 1)                 246017    \n",
            "                                                                 \n",
            "=================================================================\n",
            "Total params: 265,409\n",
            "Trainable params: 265,409\n",
            "Non-trainable params: 0\n",
            "_________________________________________________________________\n"
          ]
        }
      ]
    },
    {
      "cell_type": "code",
      "source": [
        "early_stopping = tf.keras.callbacks.EarlyStopping(\n",
        "    monitor='val_loss',\n",
        "    patience=5\n",
        ")\n",
        "\n",
        "model_path = 'vehicle_detection.h5'\n",
        "model_checkpoint = tf.keras.callbacks.ModelCheckpoint(\n",
        "    model_path,\n",
        "    save_best_only=True\n",
        ")"
      ],
      "metadata": {
        "id": "AsEWgndzWJWq"
      },
      "execution_count": null,
      "outputs": []
    },
    {
      "cell_type": "code",
      "source": [
        "history = model.fit(\n",
        "    train_generator,\n",
        "    steps_per_epoch=len(train_generator),\n",
        "    epochs=40,\n",
        "    validation_data=test_generator,\n",
        "    validation_steps=len(test_generator),\n",
        "    callbacks=[early_stopping, model_checkpoint]\n",
        ")"
      ],
      "metadata": {
        "colab": {
          "base_uri": "https://localhost:8080/"
        },
        "id": "yjvkWDMPWMrg",
        "outputId": "201fceea-7136-4631-f944-110b1c67ce00"
      },
      "execution_count": null,
      "outputs": [
        {
          "output_type": "stream",
          "name": "stdout",
          "text": [
            "Epoch 1/40\n",
            "444/444 [==============================] - 787s 2s/step - loss: 0.1649 - accuracy: 0.9379 - val_loss: 0.0865 - val_accuracy: 0.9750\n",
            "Epoch 2/40\n",
            "444/444 [==============================] - 783s 2s/step - loss: 0.0636 - accuracy: 0.9784 - val_loss: 0.0623 - val_accuracy: 0.9795\n",
            "Epoch 3/40\n",
            "444/444 [==============================] - 783s 2s/step - loss: 0.0416 - accuracy: 0.9863 - val_loss: 0.0540 - val_accuracy: 0.9809\n",
            "Epoch 4/40\n",
            "444/444 [==============================] - 783s 2s/step - loss: 0.0260 - accuracy: 0.9921 - val_loss: 0.0492 - val_accuracy: 0.9837\n",
            "Epoch 5/40\n",
            "444/444 [==============================] - 787s 2s/step - loss: 0.0413 - accuracy: 0.9859 - val_loss: 0.0485 - val_accuracy: 0.9854\n",
            "Epoch 6/40\n",
            "444/444 [==============================] - 797s 2s/step - loss: 0.0232 - accuracy: 0.9920 - val_loss: 0.0955 - val_accuracy: 0.9690\n",
            "Epoch 7/40\n",
            "444/444 [==============================] - 779s 2s/step - loss: 0.0123 - accuracy: 0.9961 - val_loss: 0.0467 - val_accuracy: 0.9879\n",
            "Epoch 8/40\n",
            "444/444 [==============================] - 781s 2s/step - loss: 0.0179 - accuracy: 0.9946 - val_loss: 0.0562 - val_accuracy: 0.9842\n",
            "Epoch 9/40\n",
            "444/444 [==============================] - 782s 2s/step - loss: 0.0087 - accuracy: 0.9972 - val_loss: 0.0651 - val_accuracy: 0.9848\n",
            "Epoch 10/40\n",
            "444/444 [==============================] - 785s 2s/step - loss: 0.0062 - accuracy: 0.9980 - val_loss: 0.0537 - val_accuracy: 0.9862\n",
            "Epoch 11/40\n",
            "444/444 [==============================] - 781s 2s/step - loss: 0.0386 - accuracy: 0.9879 - val_loss: 0.0825 - val_accuracy: 0.9795\n",
            "Epoch 12/40\n",
            "444/444 [==============================] - 781s 2s/step - loss: 0.0133 - accuracy: 0.9954 - val_loss: 0.0460 - val_accuracy: 0.9885\n",
            "Epoch 13/40\n",
            "444/444 [==============================] - 778s 2s/step - loss: 0.0081 - accuracy: 0.9973 - val_loss: 0.0429 - val_accuracy: 0.9907\n",
            "Epoch 14/40\n",
            "444/444 [==============================] - 776s 2s/step - loss: 0.0066 - accuracy: 0.9977 - val_loss: 0.0428 - val_accuracy: 0.9921\n",
            "Epoch 15/40\n",
            "444/444 [==============================] - 772s 2s/step - loss: 0.0198 - accuracy: 0.9949 - val_loss: 0.0995 - val_accuracy: 0.9761\n",
            "Epoch 16/40\n",
            "444/444 [==============================] - 771s 2s/step - loss: 0.0111 - accuracy: 0.9963 - val_loss: 0.0627 - val_accuracy: 0.9879\n",
            "Epoch 17/40\n",
            "219/444 [=============>................] - ETA: 6:05 - loss: 0.0034 - accuracy: 0.9989"
          ]
        }
      ]
    },
    {
      "cell_type": "code",
      "source": [
        "plt.plot(history.history['loss'], label='Train Loss')\n",
        "plt.plot(history.history['val_loss'], label='Validation Loss')\n",
        "plt.legend()\n",
        "plt.show()\n",
        "\n",
        "plt.plot(history.history['accuracy'], label='Train Accuracy')\n",
        "plt.plot(history.history['val_accuracy'], label='Validation Accuracy')\n",
        "plt.legend()\n",
        "plt.show()"
      ],
      "metadata": {
        "colab": {
          "base_uri": "https://localhost:8080/",
          "height": 235
        },
        "id": "tTnlnxy-cqkg",
        "outputId": "bc359c8e-5f13-4e29-8361-62560404ce81"
      },
      "execution_count": null,
      "outputs": [
        {
          "output_type": "error",
          "ename": "NameError",
          "evalue": "ignored",
          "traceback": [
            "\u001b[0;31m---------------------------------------------------------------------------\u001b[0m",
            "\u001b[0;31mNameError\u001b[0m                                 Traceback (most recent call last)",
            "\u001b[0;32m<ipython-input-1-a0e1830802d6>\u001b[0m in \u001b[0;36m<module>\u001b[0;34m\u001b[0m\n\u001b[0;32m----> 1\u001b[0;31m \u001b[0mplt\u001b[0m\u001b[0;34m.\u001b[0m\u001b[0mplot\u001b[0m\u001b[0;34m(\u001b[0m\u001b[0mhistory\u001b[0m\u001b[0;34m.\u001b[0m\u001b[0mhistory\u001b[0m\u001b[0;34m[\u001b[0m\u001b[0;34m'loss'\u001b[0m\u001b[0;34m]\u001b[0m\u001b[0;34m,\u001b[0m \u001b[0mlabel\u001b[0m\u001b[0;34m=\u001b[0m\u001b[0;34m'Train Loss'\u001b[0m\u001b[0;34m)\u001b[0m\u001b[0;34m\u001b[0m\u001b[0;34m\u001b[0m\u001b[0m\n\u001b[0m\u001b[1;32m      2\u001b[0m \u001b[0mplt\u001b[0m\u001b[0;34m.\u001b[0m\u001b[0mplot\u001b[0m\u001b[0;34m(\u001b[0m\u001b[0mhistory\u001b[0m\u001b[0;34m.\u001b[0m\u001b[0mhistory\u001b[0m\u001b[0;34m[\u001b[0m\u001b[0;34m'val_loss'\u001b[0m\u001b[0;34m]\u001b[0m\u001b[0;34m,\u001b[0m \u001b[0mlabel\u001b[0m\u001b[0;34m=\u001b[0m\u001b[0;34m'Validation Loss'\u001b[0m\u001b[0;34m)\u001b[0m\u001b[0;34m\u001b[0m\u001b[0;34m\u001b[0m\u001b[0m\n\u001b[1;32m      3\u001b[0m \u001b[0mplt\u001b[0m\u001b[0;34m.\u001b[0m\u001b[0mlegend\u001b[0m\u001b[0;34m(\u001b[0m\u001b[0;34m)\u001b[0m\u001b[0;34m\u001b[0m\u001b[0;34m\u001b[0m\u001b[0m\n\u001b[1;32m      4\u001b[0m \u001b[0mplt\u001b[0m\u001b[0;34m.\u001b[0m\u001b[0mshow\u001b[0m\u001b[0;34m(\u001b[0m\u001b[0;34m)\u001b[0m\u001b[0;34m\u001b[0m\u001b[0;34m\u001b[0m\u001b[0m\n\u001b[1;32m      5\u001b[0m \u001b[0;34m\u001b[0m\u001b[0m\n",
            "\u001b[0;31mNameError\u001b[0m: name 'plt' is not defined"
          ]
        }
      ]
    }
  ]
}